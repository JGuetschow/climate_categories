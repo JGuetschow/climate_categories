{
 "cells": [
  {
   "cell_type": "markdown",
   "metadata": {
    "collapsed": true,
    "pycharm": {
     "name": "#%% md\n"
    }
   },
   "source": [
    "# Usage\n",
    "\n",
    "## Using the included categorizations\n",
    "\n",
    "In the `climate_categories` package, the categorizations are available\n",
    "directly at the top-level namespace, and as a dictionary in `.cats`:"
   ]
  },
  {
   "cell_type": "code",
   "execution_count": null,
   "outputs": [],
   "source": [
    "import climate_categories\n",
    "\n",
    "climate_categories.IPCC2006.title"
   ],
   "metadata": {
    "collapsed": false,
    "pycharm": {
     "name": "#%%\n"
    }
   }
  },
  {
   "cell_type": "code",
   "execution_count": null,
   "outputs": [],
   "source": [
    "climate_categories.cats[\"IPCC2006\"].title"
   ],
   "metadata": {
    "collapsed": false,
    "pycharm": {
     "name": "#%%\n"
    }
   }
  },
  {
   "cell_type": "markdown",
   "source": [
    "Metadata for each categorization are accessible as properties:"
   ],
   "metadata": {
    "collapsed": false,
    "pycharm": {
     "name": "#%% md\n"
    }
   }
  },
  {
   "cell_type": "code",
   "execution_count": null,
   "outputs": [],
   "source": [
    "print(climate_categories.IPCC2006.name)\n",
    "print(climate_categories.IPCC2006.title)\n",
    "print(climate_categories.IPCC2006.comment)\n",
    "print(climate_categories.IPCC2006.references)\n",
    "print(climate_categories.IPCC2006.institution)\n",
    "print(climate_categories.IPCC2006.last_update)\n",
    "print(climate_categories.IPCC2006.version)"
   ],
   "metadata": {
    "collapsed": false,
    "pycharm": {
     "name": "#%%\n"
    }
   }
  },
  {
   "cell_type": "markdown",
   "source": [
    "The categorization can be used as a dictionary to query the meaning\n",
    "of category codes:"
   ],
   "metadata": {
    "collapsed": false,
    "pycharm": {
     "name": "#%% md\n"
    }
   }
  },
  {
   "cell_type": "code",
   "execution_count": null,
   "outputs": [],
   "source": [
    "climate_categories.IPCC2006[\"1A\"]"
   ],
   "metadata": {
    "collapsed": false,
    "pycharm": {
     "name": "#%%\n"
    }
   }
  },
  {
   "cell_type": "markdown",
   "source": [
    "For hierarchical categorizations, you can also query for parent and child\n",
    "categories:"
   ],
   "metadata": {
    "collapsed": false,
    "pycharm": {
     "name": "#%% md\n"
    }
   }
  },
  {
   "cell_type": "code",
   "execution_count": null,
   "outputs": [],
   "source": [
    "climate_categories.IPCC2006.children(\"1A\")"
   ],
   "metadata": {
    "collapsed": false,
    "pycharm": {
     "name": "#%%\n"
    }
   }
  },
  {
   "cell_type": "code",
   "execution_count": null,
   "outputs": [],
   "source": [
    "climate_categories.IPCC2006.parents(\"1A\")"
   ],
   "metadata": {
    "collapsed": false,
    "pycharm": {
     "name": "#%%\n"
    }
   }
  },
  {
   "cell_type": "markdown",
   "source": [
    "Finally, you can check if a categorization is hierarchical, and\n",
    "for hierarchical categorizations you can check if the sum of all\n",
    "child categories should be equal to the sum of parent categories:"
   ],
   "metadata": {
    "collapsed": false
   }
  },
  {
   "cell_type": "code",
   "execution_count": null,
   "outputs": [],
   "source": [
    "print(f\"Hierachical: {climate_categories.IPCC2006.hierarchical}\")\n",
    "print(f\"Total sum: {climate_categories.IPCC2006.total_sum}\")"
   ],
   "metadata": {
    "collapsed": false,
    "pycharm": {
     "name": "#%%\n"
    }
   }
  },
  {
   "cell_type": "markdown",
   "source": [
    "## Extending categorizations\n",
    "\n",
    "Often, you want to use a common categorization, but for one reason or\n",
    "another, you have to add a couple of categories. This is possible:"
   ],
   "metadata": {
    "collapsed": false,
    "pycharm": {
     "name": "#%% md\n"
    }
   }
  },
  {
   "cell_type": "code",
   "execution_count": null,
   "outputs": [],
   "source": [
    "IPCC2006_PRIMAP = climate_categories.IPCC2006.extend(\n",
    "    name=\"PRIMAP\",\n",
    "    categories={\n",
    "        \"MLULUCF\": \"Total emissions from land use, land use change, and forestry\"\n",
    "    },\n",
    ")\n",
    "\n",
    "print(IPCC2006_PRIMAP.name)\n",
    "print(IPCC2006_PRIMAP.title)\n",
    "print(IPCC2006_PRIMAP.comment)"
   ],
   "metadata": {
    "collapsed": false,
    "pycharm": {
     "name": "#%%\n"
    }
   }
  },
  {
   "cell_type": "markdown",
   "source": [
    "In this example, only a top-level category was added - if you need to\n",
    "add relationships, also supply a dictionary giving the children of each\n",
    "category:"
   ],
   "metadata": {
    "collapsed": false,
    "pycharm": {
     "name": "#%% md\n"
    }
   }
  },
  {
   "cell_type": "code",
   "execution_count": null,
   "outputs": [],
   "source": [
    "IPCC2006_PRIMAP = climate_categories.IPCC2006.extend(\n",
    "    name=\"PRIMAP\",\n",
    "    categories={\n",
    "        \"M0\": \"Total\",\n",
    "        \"MLULUCF\": \"Total emissions from land use, land use change, and forestry\",\n",
    "        \"MXLULUCF\": \"Total emissions excluding those from land use, land use change, and forestry\",\n",
    "    },\n",
    "    children={\"M0\": [\"MLULUCF\", \"MXLULUCF\"]},\n",
    ")"
   ],
   "metadata": {
    "collapsed": false,
    "pycharm": {
     "name": "#%%\n"
    }
   }
  },
  {
   "cell_type": "markdown",
   "source": [
    "## Pandas integration\n",
    "\n",
    "For each categorization, the categories are also available as a pandas\n",
    "DataFrame (you need to have pandas installed):"
   ],
   "metadata": {
    "collapsed": false,
    "pycharm": {
     "name": "#%% md\n"
    }
   }
  },
  {
   "cell_type": "code",
   "execution_count": null,
   "outputs": [],
   "source": [
    "climate_categories.IPCC2006.df"
   ],
   "metadata": {
    "collapsed": false,
    "pycharm": {
     "name": "#%%\n"
    }
   }
  }
 ],
 "metadata": {
  "kernelspec": {
   "display_name": "Python 3",
   "language": "python",
   "name": "python3"
  },
  "language_info": {
   "codemirror_mode": {
    "name": "ipython",
    "version": 2
   },
   "file_extension": ".py",
   "mimetype": "text/x-python",
   "name": "python",
   "nbconvert_exporter": "python",
   "pygments_lexer": "ipython2",
   "version": "2.7.6"
  }
 },
 "nbformat": 4,
 "nbformat_minor": 0
}
